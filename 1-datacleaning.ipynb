{
 "cells": [
  {
   "cell_type": "markdown",
   "id": "9b797af1",
   "metadata": {},
   "source": [
    "# **30 Day Forecast: Amberpet Mandal Weather Conditions**"
   ]
  },
  {
   "cell_type": "markdown",
   "id": "b1344af8",
   "metadata": {},
   "source": [
    "# **Notebook 1: Data Cleaning & Preprocessing**"
   ]
  },
  {
   "cell_type": "markdown",
   "id": "6f1ec305",
   "metadata": {},
   "source": [
    "## 1.0 Introduction"
   ]
  },
  {
   "cell_type": "markdown",
   "id": "01063382",
   "metadata": {},
   "source": [
    "**Telangana**\n",
    "- Telangana is one of the states in India, situated in the south-central part of the Indian subcontinent on the high Deccan Plateau.\n",
    "- The capital city of Telangana State is Hyderabad.\n",
    "- Telangana state is divided into 33 districts which are further divided into 584 mandals.\n",
    "- Hyderabad district is divided into 16 mandals. \n",
    "- Amberpet is a mandal in Hyderabad District.\n",
    "  \n",
    "**Climate**\n",
    "- Telangana is a semi-arid area and has a predominantly hot and dry climate. \n",
    "- Summers start in March, and peak in mid-April with average high temperatures in the 37 –38 °C (99 - 100 °F) range. \n",
    "- The monsoon arrives in June and lasts until Late-September with about 755 mm (29.7 inches) of precipitation. \n",
    "- A dry, mild winter starts in late November and lasts until early February with little humidity and average temperatures in the 22 - 23 °C (72–73 °F) range."
   ]
  },
  {
   "cell_type": "markdown",
   "id": "4e233ece",
   "metadata": {},
   "source": [
    "## 1.1 Problem Statement"
   ]
  },
  {
   "cell_type": "markdown",
   "id": "7a4bfd14",
   "metadata": {},
   "source": [
    "The daily weather conditions for Telangana State are available from February 1, 2023, to January 31, 2025. The data has been extracted from Open Data Telangana. With this data, the weather conditions for the next 30 days can be predicted from the available data. \n",
    "\n",
    "Weather forecasting is important for public safety, agriculture, transportation, and daily life, as it allows people to prepare for weather events and make informed decisions. It helps save lives by predicting severe weather, supports farmers in planting and harvesting, guides travel planning, and enables businesses to manage energy use. "
   ]
  },
  {
   "cell_type": "markdown",
   "id": "7cb24c25",
   "metadata": {},
   "source": [
    "## 1.2 Project Objectives\n"
   ]
  },
  {
   "cell_type": "markdown",
   "id": "26a84559",
   "metadata": {},
   "source": [
    "- To develop a multivariate time series forecast model for predicting the daily weather conditions for the next 30 days for Amberpet Mandal. \n",
    "- To forecast the following daily weather conditions for the next 1 month for Amberpet Mandal using a the developed model; Rain (mm), Min Temp (°C), Max Temp (°C), Min Humidity (%), Max Humidity (%), Min Wind Speed (Kmph), Max Wind Speed (Kmph)  "
   ]
  },
  {
   "cell_type": "markdown",
   "id": "81c74a26",
   "metadata": {},
   "source": [
    "## 1.3 Installing & Importing Required Libraries"
   ]
  },
  {
   "cell_type": "code",
   "execution_count": null,
   "id": "5a3c3adb",
   "metadata": {},
   "outputs": [
    {
     "name": "stdout",
     "output_type": "stream",
     "text": [
      "Requirement already satisfied: statsmodels in /Users/h.nderitu/.pyenv/versions/3.12.5/lib/python3.12/site-packages (0.14.5)\n",
      "Requirement already satisfied: numpy<3,>=1.22.3 in /Users/h.nderitu/.pyenv/versions/3.12.5/lib/python3.12/site-packages (from statsmodels) (2.3.3)\n",
      "Requirement already satisfied: scipy!=1.9.2,>=1.8 in /Users/h.nderitu/.pyenv/versions/3.12.5/lib/python3.12/site-packages (from statsmodels) (1.16.2)\n",
      "Requirement already satisfied: pandas!=2.1.0,>=1.4 in /Users/h.nderitu/.pyenv/versions/3.12.5/lib/python3.12/site-packages (from statsmodels) (2.2.2)\n",
      "Requirement already satisfied: patsy>=0.5.6 in /Users/h.nderitu/.pyenv/versions/3.12.5/lib/python3.12/site-packages (from statsmodels) (1.0.1)\n",
      "Requirement already satisfied: packaging>=21.3 in /Users/h.nderitu/.pyenv/versions/3.12.5/lib/python3.12/site-packages (from statsmodels) (23.2)\n",
      "Requirement already satisfied: python-dateutil>=2.8.2 in /Users/h.nderitu/.pyenv/versions/3.12.5/lib/python3.12/site-packages (from pandas!=2.1.0,>=1.4->statsmodels) (2.9.0.post0)\n",
      "Requirement already satisfied: pytz>=2020.1 in /Users/h.nderitu/.pyenv/versions/3.12.5/lib/python3.12/site-packages (from pandas!=2.1.0,>=1.4->statsmodels) (2024.2)\n",
      "Requirement already satisfied: tzdata>=2022.7 in /Users/h.nderitu/.pyenv/versions/3.12.5/lib/python3.12/site-packages (from pandas!=2.1.0,>=1.4->statsmodels) (2024.1)\n",
      "Requirement already satisfied: six>=1.5 in /Users/h.nderitu/.pyenv/versions/3.12.5/lib/python3.12/site-packages (from python-dateutil>=2.8.2->pandas!=2.1.0,>=1.4->statsmodels) (1.16.0)\n",
      "Note: you may need to restart the kernel to use updated packages.\n"
     ]
    }
   ],
   "source": [
    "pip install --upgrade statsmodels"
   ]
  },
  {
   "cell_type": "code",
   "execution_count": 1,
   "id": "464e73f5",
   "metadata": {},
   "outputs": [],
   "source": [
    "# Libraries required for data analysis, manipulation, visualization and preprocessing\n",
    "import numpy as np\n",
    "import pandas as pd\n",
    "from matplotlib import pyplot as plt\n",
    "import seaborn as sns\n",
    "import matplotlib.dates as mdates\n",
    "import math  # For mathematical operations\n",
    "\n",
    "import warnings\n",
    "warnings.filterwarnings('ignore')\n",
    "%matplotlib inline"
   ]
  },
  {
   "cell_type": "markdown",
   "id": "fcf07cc3",
   "metadata": {},
   "source": [
    "## 1.4 Importing Data"
   ]
  },
  {
   "cell_type": "code",
   "execution_count": 2,
   "id": "b0e0a7c4",
   "metadata": {},
   "outputs": [
    {
     "name": "stdout",
     "output_type": "stream",
     "text": [
      "   District          Mandal       Date  Rain (mm)  Min Temp (°C)  \\\n",
      "0  Adilabad  Adilabad Rural  01-Feb-23        0.0           16.6   \n",
      "1  Adilabad  Adilabad Rural  02-Feb-23        0.0           13.7   \n",
      "2  Adilabad  Adilabad Rural  03-Feb-23        0.0           10.3   \n",
      "3  Adilabad  Adilabad Rural  04-Feb-23        0.0           11.7   \n",
      "4  Adilabad  Adilabad Rural  05-Feb-23        0.0            9.2   \n",
      "\n",
      "   Max Temp (°C)  Min Humidity (%)  Max Humidity (%)  Min Wind Speed (Kmph)  \\\n",
      "0           30.9              49.3              82.0                    0.0   \n",
      "1           28.7              46.4              81.1                    0.0   \n",
      "2           29.5              24.2              55.8                    0.0   \n",
      "3           30.3              26.3              59.9                    0.0   \n",
      "4           31.3              25.2              57.6                    0.0   \n",
      "\n",
      "   Max Wind Speed (Kmph)  \n",
      "0                   11.4  \n",
      "1                   12.0  \n",
      "2                   10.9  \n",
      "3                   16.7  \n",
      "4                    9.7  \n"
     ]
    }
   ],
   "source": [
    "# importing Telangana Time Series Dataset from Hugging Face website. - https://huggingface.co/datasets/ron-the-code/Telangana_time_series_2023-2025\n",
    "# Telangana Time Series Dataset was retrieved from Open Data Telangana, from February 1, 2023, to January 31, 2025 with daily granularity. \n",
    "\n",
    "# Login using e.g. `huggingface-cli login` to access this dataset\n",
    "weather_data = pd.read_csv(\"hf://datasets/ron-the-code/Telangana_time_series_2023-2025/Telangana_combined_weather_data.csv\")\n",
    "\n",
    "# Display the DataFrame\n",
    "print(weather_data.head())"
   ]
  },
  {
   "cell_type": "code",
   "execution_count": 3,
   "id": "915da39d",
   "metadata": {},
   "outputs": [],
   "source": [
    "# save the dataset to a CSV file\n",
    "weather_data.to_csv('Telangana_combined_weather_data.csv', index=False)"
   ]
  },
  {
   "cell_type": "code",
   "execution_count": 4,
   "id": "8fdb616f",
   "metadata": {},
   "outputs": [
    {
     "data": {
      "text/html": [
       "<div>\n",
       "<style scoped>\n",
       "    .dataframe tbody tr th:only-of-type {\n",
       "        vertical-align: middle;\n",
       "    }\n",
       "\n",
       "    .dataframe tbody tr th {\n",
       "        vertical-align: top;\n",
       "    }\n",
       "\n",
       "    .dataframe thead th {\n",
       "        text-align: right;\n",
       "    }\n",
       "</style>\n",
       "<table border=\"1\" class=\"dataframe\">\n",
       "  <thead>\n",
       "    <tr style=\"text-align: right;\">\n",
       "      <th></th>\n",
       "      <th>District</th>\n",
       "      <th>Mandal</th>\n",
       "      <th>Date</th>\n",
       "      <th>Rain (mm)</th>\n",
       "      <th>Min Temp (°C)</th>\n",
       "      <th>Max Temp (°C)</th>\n",
       "      <th>Min Humidity (%)</th>\n",
       "      <th>Max Humidity (%)</th>\n",
       "      <th>Min Wind Speed (Kmph)</th>\n",
       "      <th>Max Wind Speed (Kmph)</th>\n",
       "    </tr>\n",
       "  </thead>\n",
       "  <tbody>\n",
       "    <tr>\n",
       "      <th>445207</th>\n",
       "      <td>Yadadri Bhuvanagiri</td>\n",
       "      <td>Yadagirigutta</td>\n",
       "      <td>27-Jan-25</td>\n",
       "      <td>0.0</td>\n",
       "      <td>17.0</td>\n",
       "      <td>35.2</td>\n",
       "      <td>46.0</td>\n",
       "      <td>77.6</td>\n",
       "      <td>0.0</td>\n",
       "      <td>4.6</td>\n",
       "    </tr>\n",
       "    <tr>\n",
       "      <th>445208</th>\n",
       "      <td>Yadadri Bhuvanagiri</td>\n",
       "      <td>Yadagirigutta</td>\n",
       "      <td>28-Jan-25</td>\n",
       "      <td>0.0</td>\n",
       "      <td>16.6</td>\n",
       "      <td>35.6</td>\n",
       "      <td>41.5</td>\n",
       "      <td>83.0</td>\n",
       "      <td>0.0</td>\n",
       "      <td>0.8</td>\n",
       "    </tr>\n",
       "    <tr>\n",
       "      <th>445209</th>\n",
       "      <td>Yadadri Bhuvanagiri</td>\n",
       "      <td>Yadagirigutta</td>\n",
       "      <td>29-Jan-25</td>\n",
       "      <td>0.0</td>\n",
       "      <td>17.3</td>\n",
       "      <td>34.9</td>\n",
       "      <td>48.4</td>\n",
       "      <td>81.9</td>\n",
       "      <td>0.0</td>\n",
       "      <td>8.6</td>\n",
       "    </tr>\n",
       "    <tr>\n",
       "      <th>445210</th>\n",
       "      <td>Yadadri Bhuvanagiri</td>\n",
       "      <td>Yadagirigutta</td>\n",
       "      <td>30-Jan-25</td>\n",
       "      <td>0.0</td>\n",
       "      <td>18.0</td>\n",
       "      <td>32.7</td>\n",
       "      <td>52.6</td>\n",
       "      <td>86.8</td>\n",
       "      <td>0.0</td>\n",
       "      <td>3.9</td>\n",
       "    </tr>\n",
       "    <tr>\n",
       "      <th>445211</th>\n",
       "      <td>Yadadri Bhuvanagiri</td>\n",
       "      <td>Yadagirigutta</td>\n",
       "      <td>31-Jan-25</td>\n",
       "      <td>0.0</td>\n",
       "      <td>17.6</td>\n",
       "      <td>33.1</td>\n",
       "      <td>55.7</td>\n",
       "      <td>86.3</td>\n",
       "      <td>0.0</td>\n",
       "      <td>6.0</td>\n",
       "    </tr>\n",
       "  </tbody>\n",
       "</table>\n",
       "</div>"
      ],
      "text/plain": [
       "                   District         Mandal       Date  Rain (mm)  \\\n",
       "445207  Yadadri Bhuvanagiri  Yadagirigutta  27-Jan-25        0.0   \n",
       "445208  Yadadri Bhuvanagiri  Yadagirigutta  28-Jan-25        0.0   \n",
       "445209  Yadadri Bhuvanagiri  Yadagirigutta  29-Jan-25        0.0   \n",
       "445210  Yadadri Bhuvanagiri  Yadagirigutta  30-Jan-25        0.0   \n",
       "445211  Yadadri Bhuvanagiri  Yadagirigutta  31-Jan-25        0.0   \n",
       "\n",
       "        Min Temp (°C)  Max Temp (°C)  Min Humidity (%)  Max Humidity (%)  \\\n",
       "445207           17.0           35.2              46.0              77.6   \n",
       "445208           16.6           35.6              41.5              83.0   \n",
       "445209           17.3           34.9              48.4              81.9   \n",
       "445210           18.0           32.7              52.6              86.8   \n",
       "445211           17.6           33.1              55.7              86.3   \n",
       "\n",
       "        Min Wind Speed (Kmph)  Max Wind Speed (Kmph)  \n",
       "445207                    0.0                    4.6  \n",
       "445208                    0.0                    0.8  \n",
       "445209                    0.0                    8.6  \n",
       "445210                    0.0                    3.9  \n",
       "445211                    0.0                    6.0  "
      ]
     },
     "execution_count": 4,
     "metadata": {},
     "output_type": "execute_result"
    }
   ],
   "source": [
    "weather_data.tail()"
   ]
  },
  {
   "cell_type": "code",
   "execution_count": 5,
   "id": "190bec20",
   "metadata": {},
   "outputs": [
    {
     "data": {
      "text/html": [
       "<div>\n",
       "<style scoped>\n",
       "    .dataframe tbody tr th:only-of-type {\n",
       "        vertical-align: middle;\n",
       "    }\n",
       "\n",
       "    .dataframe tbody tr th {\n",
       "        vertical-align: top;\n",
       "    }\n",
       "\n",
       "    .dataframe thead th {\n",
       "        text-align: right;\n",
       "    }\n",
       "</style>\n",
       "<table border=\"1\" class=\"dataframe\">\n",
       "  <thead>\n",
       "    <tr style=\"text-align: right;\">\n",
       "      <th></th>\n",
       "      <th>District</th>\n",
       "      <th>Mandal</th>\n",
       "      <th>Date</th>\n",
       "      <th>Rain (mm)</th>\n",
       "      <th>Min Temp (°C)</th>\n",
       "      <th>Max Temp (°C)</th>\n",
       "      <th>Min Humidity (%)</th>\n",
       "      <th>Max Humidity (%)</th>\n",
       "      <th>Min Wind Speed (Kmph)</th>\n",
       "      <th>Max Wind Speed (Kmph)</th>\n",
       "    </tr>\n",
       "  </thead>\n",
       "  <tbody>\n",
       "    <tr>\n",
       "      <th>0</th>\n",
       "      <td>Adilabad</td>\n",
       "      <td>Adilabad Rural</td>\n",
       "      <td>01-Feb-23</td>\n",
       "      <td>0.0</td>\n",
       "      <td>16.6</td>\n",
       "      <td>30.9</td>\n",
       "      <td>49.3</td>\n",
       "      <td>82.0</td>\n",
       "      <td>0.0</td>\n",
       "      <td>11.4</td>\n",
       "    </tr>\n",
       "    <tr>\n",
       "      <th>1</th>\n",
       "      <td>Adilabad</td>\n",
       "      <td>Adilabad Rural</td>\n",
       "      <td>02-Feb-23</td>\n",
       "      <td>0.0</td>\n",
       "      <td>13.7</td>\n",
       "      <td>28.7</td>\n",
       "      <td>46.4</td>\n",
       "      <td>81.1</td>\n",
       "      <td>0.0</td>\n",
       "      <td>12.0</td>\n",
       "    </tr>\n",
       "    <tr>\n",
       "      <th>2</th>\n",
       "      <td>Adilabad</td>\n",
       "      <td>Adilabad Rural</td>\n",
       "      <td>03-Feb-23</td>\n",
       "      <td>0.0</td>\n",
       "      <td>10.3</td>\n",
       "      <td>29.5</td>\n",
       "      <td>24.2</td>\n",
       "      <td>55.8</td>\n",
       "      <td>0.0</td>\n",
       "      <td>10.9</td>\n",
       "    </tr>\n",
       "    <tr>\n",
       "      <th>3</th>\n",
       "      <td>Adilabad</td>\n",
       "      <td>Adilabad Rural</td>\n",
       "      <td>04-Feb-23</td>\n",
       "      <td>0.0</td>\n",
       "      <td>11.7</td>\n",
       "      <td>30.3</td>\n",
       "      <td>26.3</td>\n",
       "      <td>59.9</td>\n",
       "      <td>0.0</td>\n",
       "      <td>16.7</td>\n",
       "    </tr>\n",
       "    <tr>\n",
       "      <th>4</th>\n",
       "      <td>Adilabad</td>\n",
       "      <td>Adilabad Rural</td>\n",
       "      <td>05-Feb-23</td>\n",
       "      <td>0.0</td>\n",
       "      <td>9.2</td>\n",
       "      <td>31.3</td>\n",
       "      <td>25.2</td>\n",
       "      <td>57.6</td>\n",
       "      <td>0.0</td>\n",
       "      <td>9.7</td>\n",
       "    </tr>\n",
       "  </tbody>\n",
       "</table>\n",
       "</div>"
      ],
      "text/plain": [
       "   District          Mandal       Date  Rain (mm)  Min Temp (°C)  \\\n",
       "0  Adilabad  Adilabad Rural  01-Feb-23        0.0           16.6   \n",
       "1  Adilabad  Adilabad Rural  02-Feb-23        0.0           13.7   \n",
       "2  Adilabad  Adilabad Rural  03-Feb-23        0.0           10.3   \n",
       "3  Adilabad  Adilabad Rural  04-Feb-23        0.0           11.7   \n",
       "4  Adilabad  Adilabad Rural  05-Feb-23        0.0            9.2   \n",
       "\n",
       "   Max Temp (°C)  Min Humidity (%)  Max Humidity (%)  Min Wind Speed (Kmph)  \\\n",
       "0           30.9              49.3              82.0                    0.0   \n",
       "1           28.7              46.4              81.1                    0.0   \n",
       "2           29.5              24.2              55.8                    0.0   \n",
       "3           30.3              26.3              59.9                    0.0   \n",
       "4           31.3              25.2              57.6                    0.0   \n",
       "\n",
       "   Max Wind Speed (Kmph)  \n",
       "0                   11.4  \n",
       "1                   12.0  \n",
       "2                   10.9  \n",
       "3                   16.7  \n",
       "4                    9.7  "
      ]
     },
     "execution_count": 5,
     "metadata": {},
     "output_type": "execute_result"
    }
   ],
   "source": [
    "weather_data.head()"
   ]
  },
  {
   "cell_type": "code",
   "execution_count": 6,
   "id": "c432a009",
   "metadata": {},
   "outputs": [
    {
     "name": "stdout",
     "output_type": "stream",
     "text": [
      "<class 'pandas.core.frame.DataFrame'>\n",
      "RangeIndex: 445212 entries, 0 to 445211\n",
      "Data columns (total 10 columns):\n",
      " #   Column                 Non-Null Count   Dtype  \n",
      "---  ------                 --------------   -----  \n",
      " 0   District               445212 non-null  object \n",
      " 1   Mandal                 445212 non-null  object \n",
      " 2   Date                   445212 non-null  object \n",
      " 3   Rain (mm)              445212 non-null  float64\n",
      " 4   Min Temp (°C)          445212 non-null  float64\n",
      " 5   Max Temp (°C)          445212 non-null  float64\n",
      " 6   Min Humidity (%)       445212 non-null  float64\n",
      " 7   Max Humidity (%)       445212 non-null  float64\n",
      " 8   Min Wind Speed (Kmph)  445212 non-null  float64\n",
      " 9   Max Wind Speed (Kmph)  445212 non-null  float64\n",
      "dtypes: float64(7), object(3)\n",
      "memory usage: 34.0+ MB\n"
     ]
    }
   ],
   "source": [
    "weather_data.info() #get dataset information"
   ]
  },
  {
   "cell_type": "markdown",
   "id": "e1da575f",
   "metadata": {},
   "source": [
    "- The dataset has no missing data for each column.\n",
    "- There are 445212 rows of data.\n",
    "- There are 10 columns.\n",
    "- 3 columns contain categorical data, namely: District, Mandal & Date.\n",
    "- 7 columns contain data on rain, temperature, humidity and windspeed constitute numerical data"
   ]
  },
  {
   "cell_type": "code",
   "execution_count": 7,
   "id": "b345b546",
   "metadata": {},
   "outputs": [
    {
     "name": "stdout",
     "output_type": "stream",
     "text": [
      "Number of districts with weather data:\n",
      " 33\n"
     ]
    }
   ],
   "source": [
    "# Get number of unique entries in the District Column \n",
    "unique_districts = weather_data['District'].nunique()\n",
    "print(f\"Number of districts with weather data:\\n {unique_districts}\")"
   ]
  },
  {
   "cell_type": "code",
   "execution_count": 8,
   "id": "fedb0c82",
   "metadata": {},
   "outputs": [
    {
     "name": "stdout",
     "output_type": "stream",
     "text": [
      "Name of districts with weather data:\n",
      " ['Adilabad' 'Bhadradri Kothagudem' 'Hanumakonda' 'Hyderabad' 'Jagtial'\n",
      " 'Jangaon' 'Jayashankar' 'Jogulamba Gadwal' 'Kamareddy' 'Karimnagar'\n",
      " 'Khammam' 'Kumuram Bheem' 'Mahabubabad' 'Mahabubnagar' 'Mancherial'\n",
      " 'Medak' 'Medchal-Malkajgiri' 'Mulugu' 'Nagarkurnool' 'Nalgonda'\n",
      " 'Narayanpet' 'Nirmal' 'Nizamabad' 'Peddapalli' 'Rajanna Sircilla'\n",
      " 'Rangareddy' 'Sangareddy' 'Siddipet' 'Suryapet' 'Vikarabad' 'Wanaparthy'\n",
      " 'Warangal' 'Yadadri Bhuvanagiri']\n"
     ]
    }
   ],
   "source": [
    "# Get names of unique entries in the District Column \n",
    "name_unique_districts = weather_data['District'].unique()\n",
    "print(f\"Name of districts with weather data:\\n {name_unique_districts}\")"
   ]
  },
  {
   "cell_type": "code",
   "execution_count": 9,
   "id": "1b86bef6",
   "metadata": {},
   "outputs": [
    {
     "name": "stdout",
     "output_type": "stream",
     "text": [
      "Number of mandals with weather data:\n",
      " 598\n"
     ]
    }
   ],
   "source": [
    "# Get number of unique entries in the Mandal Column \n",
    "unique_mandal = weather_data['Mandal'].nunique()\n",
    "print(f\"Number of mandals with weather data:\\n {unique_mandal}\")"
   ]
  },
  {
   "cell_type": "markdown",
   "id": "c0b99bec",
   "metadata": {},
   "source": [
    "## 1.5 Data Preprocessing"
   ]
  },
  {
   "cell_type": "markdown",
   "id": "386a0e41",
   "metadata": {},
   "source": [
    "### 1.5.1 Selecting district for weather forecasting"
   ]
  },
  {
   "cell_type": "markdown",
   "id": "86b17ee8",
   "metadata": {},
   "source": [
    "- The time series data is for 33 districts.\n",
    "- Forecasting will be done for Hyderabad district"
   ]
  },
  {
   "cell_type": "code",
   "execution_count": 10,
   "id": "90aa6e46",
   "metadata": {},
   "outputs": [
    {
     "data": {
      "text/html": [
       "<div>\n",
       "<style scoped>\n",
       "    .dataframe tbody tr th:only-of-type {\n",
       "        vertical-align: middle;\n",
       "    }\n",
       "\n",
       "    .dataframe tbody tr th {\n",
       "        vertical-align: top;\n",
       "    }\n",
       "\n",
       "    .dataframe thead th {\n",
       "        text-align: right;\n",
       "    }\n",
       "</style>\n",
       "<table border=\"1\" class=\"dataframe\">\n",
       "  <thead>\n",
       "    <tr style=\"text-align: right;\">\n",
       "      <th></th>\n",
       "      <th>District</th>\n",
       "      <th>Mandal</th>\n",
       "      <th>Date</th>\n",
       "      <th>Rain (mm)</th>\n",
       "      <th>Min Temp (°C)</th>\n",
       "      <th>Max Temp (°C)</th>\n",
       "      <th>Min Humidity (%)</th>\n",
       "      <th>Max Humidity (%)</th>\n",
       "      <th>Min Wind Speed (Kmph)</th>\n",
       "      <th>Max Wind Speed (Kmph)</th>\n",
       "    </tr>\n",
       "  </thead>\n",
       "  <tbody>\n",
       "    <tr>\n",
       "      <th>1540</th>\n",
       "      <td>Hyderabad</td>\n",
       "      <td>Amberpet</td>\n",
       "      <td>01-Feb-23</td>\n",
       "      <td>0.0</td>\n",
       "      <td>21.5</td>\n",
       "      <td>29.7</td>\n",
       "      <td>42.2</td>\n",
       "      <td>78.6</td>\n",
       "      <td>0.0</td>\n",
       "      <td>2.0</td>\n",
       "    </tr>\n",
       "    <tr>\n",
       "      <th>1541</th>\n",
       "      <td>Hyderabad</td>\n",
       "      <td>Amberpet</td>\n",
       "      <td>02-Feb-23</td>\n",
       "      <td>0.0</td>\n",
       "      <td>19.9</td>\n",
       "      <td>30.4</td>\n",
       "      <td>37.0</td>\n",
       "      <td>73.6</td>\n",
       "      <td>0.0</td>\n",
       "      <td>1.9</td>\n",
       "    </tr>\n",
       "    <tr>\n",
       "      <th>1542</th>\n",
       "      <td>Hyderabad</td>\n",
       "      <td>Amberpet</td>\n",
       "      <td>03-Feb-23</td>\n",
       "      <td>0.0</td>\n",
       "      <td>18.5</td>\n",
       "      <td>30.1</td>\n",
       "      <td>27.8</td>\n",
       "      <td>55.1</td>\n",
       "      <td>0.0</td>\n",
       "      <td>2.0</td>\n",
       "    </tr>\n",
       "    <tr>\n",
       "      <th>1543</th>\n",
       "      <td>Hyderabad</td>\n",
       "      <td>Amberpet</td>\n",
       "      <td>04-Feb-23</td>\n",
       "      <td>0.0</td>\n",
       "      <td>19.1</td>\n",
       "      <td>31.4</td>\n",
       "      <td>15.6</td>\n",
       "      <td>60.3</td>\n",
       "      <td>0.0</td>\n",
       "      <td>2.1</td>\n",
       "    </tr>\n",
       "    <tr>\n",
       "      <th>1544</th>\n",
       "      <td>Hyderabad</td>\n",
       "      <td>Amberpet</td>\n",
       "      <td>05-Feb-23</td>\n",
       "      <td>0.0</td>\n",
       "      <td>20.1</td>\n",
       "      <td>31.9</td>\n",
       "      <td>24.2</td>\n",
       "      <td>58.1</td>\n",
       "      <td>0.0</td>\n",
       "      <td>2.1</td>\n",
       "    </tr>\n",
       "  </tbody>\n",
       "</table>\n",
       "</div>"
      ],
      "text/plain": [
       "       District    Mandal       Date  Rain (mm)  Min Temp (°C)  Max Temp (°C)  \\\n",
       "1540  Hyderabad  Amberpet  01-Feb-23        0.0           21.5           29.7   \n",
       "1541  Hyderabad  Amberpet  02-Feb-23        0.0           19.9           30.4   \n",
       "1542  Hyderabad  Amberpet  03-Feb-23        0.0           18.5           30.1   \n",
       "1543  Hyderabad  Amberpet  04-Feb-23        0.0           19.1           31.4   \n",
       "1544  Hyderabad  Amberpet  05-Feb-23        0.0           20.1           31.9   \n",
       "\n",
       "      Min Humidity (%)  Max Humidity (%)  Min Wind Speed (Kmph)  \\\n",
       "1540              42.2              78.6                    0.0   \n",
       "1541              37.0              73.6                    0.0   \n",
       "1542              27.8              55.1                    0.0   \n",
       "1543              15.6              60.3                    0.0   \n",
       "1544              24.2              58.1                    0.0   \n",
       "\n",
       "      Max Wind Speed (Kmph)  \n",
       "1540                    2.0  \n",
       "1541                    1.9  \n",
       "1542                    2.0  \n",
       "1543                    2.1  \n",
       "1544                    2.1  "
      ]
     },
     "execution_count": 10,
     "metadata": {},
     "output_type": "execute_result"
    }
   ],
   "source": [
    "# Group data by district and get data for Hyderabad district. \n",
    "weather_by_district = {District: data for District, data in weather_data.groupby('District')}\n",
    "hyderabad_weather = weather_by_district['Hyderabad']\n",
    "hyderabad_weather.head()"
   ]
  },
  {
   "cell_type": "code",
   "execution_count": 11,
   "id": "8837a536",
   "metadata": {},
   "outputs": [],
   "source": [
    "# save the dataset to a csv file\n",
    "hyderabad_weather.to_csv('Hyderabad_weather_data.csv', index=False)"
   ]
  },
  {
   "cell_type": "code",
   "execution_count": 12,
   "id": "a7c59c20",
   "metadata": {},
   "outputs": [
    {
     "name": "stdout",
     "output_type": "stream",
     "text": [
      "Data for Hyderabad\n",
      "<class 'pandas.core.frame.DataFrame'>\n",
      "Index: 11696 entries, 1540 to 428440\n",
      "Data columns (total 10 columns):\n",
      " #   Column                 Non-Null Count  Dtype  \n",
      "---  ------                 --------------  -----  \n",
      " 0   District               11696 non-null  object \n",
      " 1   Mandal                 11696 non-null  object \n",
      " 2   Date                   11696 non-null  object \n",
      " 3   Rain (mm)              11696 non-null  float64\n",
      " 4   Min Temp (°C)          11696 non-null  float64\n",
      " 5   Max Temp (°C)          11696 non-null  float64\n",
      " 6   Min Humidity (%)       11696 non-null  float64\n",
      " 7   Max Humidity (%)       11696 non-null  float64\n",
      " 8   Min Wind Speed (Kmph)  11696 non-null  float64\n",
      " 9   Max Wind Speed (Kmph)  11696 non-null  float64\n",
      "dtypes: float64(7), object(3)\n",
      "memory usage: 1005.1+ KB\n"
     ]
    }
   ],
   "source": [
    "# check information for the hyderabad weather data\n",
    "print(f\"Data for Hyderabad\")\n",
    "hyderabad_weather.info() "
   ]
  },
  {
   "cell_type": "markdown",
   "id": "13474f0a",
   "metadata": {},
   "source": [
    "**Hyderabad weather data consists of 11696 rows and 10 columns.**"
   ]
  },
  {
   "cell_type": "code",
   "execution_count": 13,
   "id": "797f2c33",
   "metadata": {},
   "outputs": [
    {
     "name": "stdout",
     "output_type": "stream",
     "text": [
      "Number of hyderabad mandals with weather data:\n",
      " 16\n"
     ]
    }
   ],
   "source": [
    "# Get number of unique entries in the Mandal Column \n",
    "mandal = hyderabad_weather['Mandal'].nunique()\n",
    "print(f\"Number of hyderabad mandals with weather data:\\n {mandal}\")"
   ]
  },
  {
   "cell_type": "code",
   "execution_count": 14,
   "id": "6f2c2184",
   "metadata": {},
   "outputs": [
    {
     "name": "stdout",
     "output_type": "stream",
     "text": [
      "Names of hyderabad mandals with weather data:\n",
      " ['Amberpet' 'Ameerpet' 'Asifnagar' 'Bahadurpura' 'Bandlaguda' 'Charminar'\n",
      " 'Golkonda' 'Himayatnagar' 'Khairatabad' 'Maredpally' 'Musheerabad'\n",
      " 'Nampally' 'Saidabad' 'Secunderabad' 'Shaikpet' 'Tirumalgiri']\n"
     ]
    }
   ],
   "source": [
    "# Get names of unique entries in the Mandal Column \n",
    "mandal = hyderabad_weather['Mandal'].unique()\n",
    "print(f\"Names of hyderabad mandals with weather data:\\n {mandal}\")"
   ]
  },
  {
   "cell_type": "markdown",
   "id": "152d45ed",
   "metadata": {},
   "source": [
    "### 1.5.2 Check for missingness"
   ]
  },
  {
   "cell_type": "code",
   "execution_count": 15,
   "id": "49acf1d8",
   "metadata": {},
   "outputs": [
    {
     "name": "stdout",
     "output_type": "stream",
     "text": [
      "\n",
      "--- Missing Values in Each Column ---\n",
      "District                 0\n",
      "Mandal                   0\n",
      "Date                     0\n",
      "Rain (mm)                0\n",
      "Min Temp (°C)            0\n",
      "Max Temp (°C)            0\n",
      "Min Humidity (%)         0\n",
      "Max Humidity (%)         0\n",
      "Min Wind Speed (Kmph)    0\n",
      "Max Wind Speed (Kmph)    0\n",
      "dtype: int64\n"
     ]
    }
   ],
   "source": [
    "# check for missing values\n",
    "missing_values = hyderabad_weather.isnull().sum()\n",
    "print(\"\\n--- Missing Values in Each Column ---\")\n",
    "print(missing_values)"
   ]
  },
  {
   "cell_type": "markdown",
   "id": "8f8181e2",
   "metadata": {},
   "source": [
    "### 1.5.3 Check for duplicate rows"
   ]
  },
  {
   "cell_type": "code",
   "execution_count": 16,
   "id": "44589fd3",
   "metadata": {},
   "outputs": [
    {
     "name": "stdout",
     "output_type": "stream",
     "text": [
      "Number of duplicate rows in the dataset: 0\n"
     ]
    }
   ],
   "source": [
    "# check for duplicates\n",
    "duplicates = hyderabad_weather.duplicated().sum()\n",
    "print(f\"Number of duplicate rows in the dataset: {duplicates}\")"
   ]
  },
  {
   "cell_type": "markdown",
   "id": "4f8016be",
   "metadata": {},
   "source": [
    "### 1.5.4 Indexing Date column"
   ]
  },
  {
   "cell_type": "code",
   "execution_count": 17,
   "id": "f464eb66",
   "metadata": {},
   "outputs": [
    {
     "name": "stdout",
     "output_type": "stream",
     "text": [
      "<class 'pandas.core.frame.DataFrame'>\n",
      "Index: 11696 entries, 01-Feb-23 to 31-Jan-25\n",
      "Data columns (total 9 columns):\n",
      " #   Column                 Non-Null Count  Dtype  \n",
      "---  ------                 --------------  -----  \n",
      " 0   District               11696 non-null  object \n",
      " 1   Mandal                 11696 non-null  object \n",
      " 2   Rain (mm)              11696 non-null  float64\n",
      " 3   Min Temp (°C)          11696 non-null  float64\n",
      " 4   Max Temp (°C)          11696 non-null  float64\n",
      " 5   Min Humidity (%)       11696 non-null  float64\n",
      " 6   Max Humidity (%)       11696 non-null  float64\n",
      " 7   Min Wind Speed (Kmph)  11696 non-null  float64\n",
      " 8   Max Wind Speed (Kmph)  11696 non-null  float64\n",
      "dtypes: float64(7), object(2)\n",
      "memory usage: 913.8+ KB\n"
     ]
    }
   ],
   "source": [
    "# Set 'Date column' as index\n",
    "hyderabad_indexed = hyderabad_weather.set_index('Date')\n",
    "hyderabad_indexed.info()"
   ]
  },
  {
   "cell_type": "code",
   "execution_count": 18,
   "id": "b8aa3e04",
   "metadata": {},
   "outputs": [
    {
     "data": {
      "text/html": [
       "<div>\n",
       "<style scoped>\n",
       "    .dataframe tbody tr th:only-of-type {\n",
       "        vertical-align: middle;\n",
       "    }\n",
       "\n",
       "    .dataframe tbody tr th {\n",
       "        vertical-align: top;\n",
       "    }\n",
       "\n",
       "    .dataframe thead th {\n",
       "        text-align: right;\n",
       "    }\n",
       "</style>\n",
       "<table border=\"1\" class=\"dataframe\">\n",
       "  <thead>\n",
       "    <tr style=\"text-align: right;\">\n",
       "      <th></th>\n",
       "      <th>District</th>\n",
       "      <th>Mandal</th>\n",
       "      <th>Rain (mm)</th>\n",
       "      <th>Min Temp (°C)</th>\n",
       "      <th>Max Temp (°C)</th>\n",
       "      <th>Min Humidity (%)</th>\n",
       "      <th>Max Humidity (%)</th>\n",
       "      <th>Min Wind Speed (Kmph)</th>\n",
       "      <th>Max Wind Speed (Kmph)</th>\n",
       "    </tr>\n",
       "    <tr>\n",
       "      <th>Date</th>\n",
       "      <th></th>\n",
       "      <th></th>\n",
       "      <th></th>\n",
       "      <th></th>\n",
       "      <th></th>\n",
       "      <th></th>\n",
       "      <th></th>\n",
       "      <th></th>\n",
       "      <th></th>\n",
       "    </tr>\n",
       "  </thead>\n",
       "  <tbody>\n",
       "    <tr>\n",
       "      <th>01-Feb-23</th>\n",
       "      <td>Hyderabad</td>\n",
       "      <td>Amberpet</td>\n",
       "      <td>0.0</td>\n",
       "      <td>21.5</td>\n",
       "      <td>29.7</td>\n",
       "      <td>42.2</td>\n",
       "      <td>78.6</td>\n",
       "      <td>0.0</td>\n",
       "      <td>2.0</td>\n",
       "    </tr>\n",
       "    <tr>\n",
       "      <th>02-Feb-23</th>\n",
       "      <td>Hyderabad</td>\n",
       "      <td>Amberpet</td>\n",
       "      <td>0.0</td>\n",
       "      <td>19.9</td>\n",
       "      <td>30.4</td>\n",
       "      <td>37.0</td>\n",
       "      <td>73.6</td>\n",
       "      <td>0.0</td>\n",
       "      <td>1.9</td>\n",
       "    </tr>\n",
       "    <tr>\n",
       "      <th>03-Feb-23</th>\n",
       "      <td>Hyderabad</td>\n",
       "      <td>Amberpet</td>\n",
       "      <td>0.0</td>\n",
       "      <td>18.5</td>\n",
       "      <td>30.1</td>\n",
       "      <td>27.8</td>\n",
       "      <td>55.1</td>\n",
       "      <td>0.0</td>\n",
       "      <td>2.0</td>\n",
       "    </tr>\n",
       "    <tr>\n",
       "      <th>04-Feb-23</th>\n",
       "      <td>Hyderabad</td>\n",
       "      <td>Amberpet</td>\n",
       "      <td>0.0</td>\n",
       "      <td>19.1</td>\n",
       "      <td>31.4</td>\n",
       "      <td>15.6</td>\n",
       "      <td>60.3</td>\n",
       "      <td>0.0</td>\n",
       "      <td>2.1</td>\n",
       "    </tr>\n",
       "    <tr>\n",
       "      <th>05-Feb-23</th>\n",
       "      <td>Hyderabad</td>\n",
       "      <td>Amberpet</td>\n",
       "      <td>0.0</td>\n",
       "      <td>20.1</td>\n",
       "      <td>31.9</td>\n",
       "      <td>24.2</td>\n",
       "      <td>58.1</td>\n",
       "      <td>0.0</td>\n",
       "      <td>2.1</td>\n",
       "    </tr>\n",
       "  </tbody>\n",
       "</table>\n",
       "</div>"
      ],
      "text/plain": [
       "            District    Mandal  Rain (mm)  Min Temp (°C)  Max Temp (°C)  \\\n",
       "Date                                                                      \n",
       "01-Feb-23  Hyderabad  Amberpet        0.0           21.5           29.7   \n",
       "02-Feb-23  Hyderabad  Amberpet        0.0           19.9           30.4   \n",
       "03-Feb-23  Hyderabad  Amberpet        0.0           18.5           30.1   \n",
       "04-Feb-23  Hyderabad  Amberpet        0.0           19.1           31.4   \n",
       "05-Feb-23  Hyderabad  Amberpet        0.0           20.1           31.9   \n",
       "\n",
       "           Min Humidity (%)  Max Humidity (%)  Min Wind Speed (Kmph)  \\\n",
       "Date                                                                   \n",
       "01-Feb-23              42.2              78.6                    0.0   \n",
       "02-Feb-23              37.0              73.6                    0.0   \n",
       "03-Feb-23              27.8              55.1                    0.0   \n",
       "04-Feb-23              15.6              60.3                    0.0   \n",
       "05-Feb-23              24.2              58.1                    0.0   \n",
       "\n",
       "           Max Wind Speed (Kmph)  \n",
       "Date                              \n",
       "01-Feb-23                    2.0  \n",
       "02-Feb-23                    1.9  \n",
       "03-Feb-23                    2.0  \n",
       "04-Feb-23                    2.1  \n",
       "05-Feb-23                    2.1  "
      ]
     },
     "execution_count": 18,
     "metadata": {},
     "output_type": "execute_result"
    }
   ],
   "source": [
    "# confirming the index\n",
    "hyderabad_indexed.head()"
   ]
  },
  {
   "cell_type": "code",
   "execution_count": 19,
   "id": "46d03789",
   "metadata": {},
   "outputs": [
    {
     "data": {
      "text/html": [
       "<div>\n",
       "<style scoped>\n",
       "    .dataframe tbody tr th:only-of-type {\n",
       "        vertical-align: middle;\n",
       "    }\n",
       "\n",
       "    .dataframe tbody tr th {\n",
       "        vertical-align: top;\n",
       "    }\n",
       "\n",
       "    .dataframe thead th {\n",
       "        text-align: right;\n",
       "    }\n",
       "</style>\n",
       "<table border=\"1\" class=\"dataframe\">\n",
       "  <thead>\n",
       "    <tr style=\"text-align: right;\">\n",
       "      <th></th>\n",
       "      <th>District</th>\n",
       "      <th>Mandal</th>\n",
       "      <th>Rain (mm)</th>\n",
       "      <th>Min Temp (°C)</th>\n",
       "      <th>Max Temp (°C)</th>\n",
       "      <th>Min Humidity (%)</th>\n",
       "      <th>Max Humidity (%)</th>\n",
       "      <th>Min Wind Speed (Kmph)</th>\n",
       "      <th>Max Wind Speed (Kmph)</th>\n",
       "    </tr>\n",
       "    <tr>\n",
       "      <th>Date</th>\n",
       "      <th></th>\n",
       "      <th></th>\n",
       "      <th></th>\n",
       "      <th></th>\n",
       "      <th></th>\n",
       "      <th></th>\n",
       "      <th></th>\n",
       "      <th></th>\n",
       "      <th></th>\n",
       "    </tr>\n",
       "  </thead>\n",
       "  <tbody>\n",
       "    <tr>\n",
       "      <th>27-Jan-25</th>\n",
       "      <td>Hyderabad</td>\n",
       "      <td>Tirumalgiri</td>\n",
       "      <td>0.0</td>\n",
       "      <td>17.7</td>\n",
       "      <td>33.0</td>\n",
       "      <td>38.0</td>\n",
       "      <td>89.6</td>\n",
       "      <td>0.0</td>\n",
       "      <td>4.4</td>\n",
       "    </tr>\n",
       "    <tr>\n",
       "      <th>28-Jan-25</th>\n",
       "      <td>Hyderabad</td>\n",
       "      <td>Tirumalgiri</td>\n",
       "      <td>0.0</td>\n",
       "      <td>18.0</td>\n",
       "      <td>33.2</td>\n",
       "      <td>35.7</td>\n",
       "      <td>90.1</td>\n",
       "      <td>0.0</td>\n",
       "      <td>3.5</td>\n",
       "    </tr>\n",
       "    <tr>\n",
       "      <th>29-Jan-25</th>\n",
       "      <td>Hyderabad</td>\n",
       "      <td>Tirumalgiri</td>\n",
       "      <td>0.0</td>\n",
       "      <td>18.5</td>\n",
       "      <td>32.8</td>\n",
       "      <td>43.7</td>\n",
       "      <td>91.4</td>\n",
       "      <td>0.0</td>\n",
       "      <td>0.3</td>\n",
       "    </tr>\n",
       "    <tr>\n",
       "      <th>30-Jan-25</th>\n",
       "      <td>Hyderabad</td>\n",
       "      <td>Tirumalgiri</td>\n",
       "      <td>0.0</td>\n",
       "      <td>17.8</td>\n",
       "      <td>32.0</td>\n",
       "      <td>51.0</td>\n",
       "      <td>100.0</td>\n",
       "      <td>0.0</td>\n",
       "      <td>0.7</td>\n",
       "    </tr>\n",
       "    <tr>\n",
       "      <th>31-Jan-25</th>\n",
       "      <td>Hyderabad</td>\n",
       "      <td>Tirumalgiri</td>\n",
       "      <td>0.0</td>\n",
       "      <td>18.0</td>\n",
       "      <td>33.1</td>\n",
       "      <td>51.6</td>\n",
       "      <td>95.9</td>\n",
       "      <td>0.0</td>\n",
       "      <td>3.2</td>\n",
       "    </tr>\n",
       "  </tbody>\n",
       "</table>\n",
       "</div>"
      ],
      "text/plain": [
       "            District       Mandal  Rain (mm)  Min Temp (°C)  Max Temp (°C)  \\\n",
       "Date                                                                         \n",
       "27-Jan-25  Hyderabad  Tirumalgiri        0.0           17.7           33.0   \n",
       "28-Jan-25  Hyderabad  Tirumalgiri        0.0           18.0           33.2   \n",
       "29-Jan-25  Hyderabad  Tirumalgiri        0.0           18.5           32.8   \n",
       "30-Jan-25  Hyderabad  Tirumalgiri        0.0           17.8           32.0   \n",
       "31-Jan-25  Hyderabad  Tirumalgiri        0.0           18.0           33.1   \n",
       "\n",
       "           Min Humidity (%)  Max Humidity (%)  Min Wind Speed (Kmph)  \\\n",
       "Date                                                                   \n",
       "27-Jan-25              38.0              89.6                    0.0   \n",
       "28-Jan-25              35.7              90.1                    0.0   \n",
       "29-Jan-25              43.7              91.4                    0.0   \n",
       "30-Jan-25              51.0             100.0                    0.0   \n",
       "31-Jan-25              51.6              95.9                    0.0   \n",
       "\n",
       "           Max Wind Speed (Kmph)  \n",
       "Date                              \n",
       "27-Jan-25                    4.4  \n",
       "28-Jan-25                    3.5  \n",
       "29-Jan-25                    0.3  \n",
       "30-Jan-25                    0.7  \n",
       "31-Jan-25                    3.2  "
      ]
     },
     "execution_count": 19,
     "metadata": {},
     "output_type": "execute_result"
    }
   ],
   "source": [
    "# confirming the index\n",
    "hyderabad_indexed.tail()"
   ]
  },
  {
   "cell_type": "code",
   "execution_count": 20,
   "id": "98e7bd46",
   "metadata": {},
   "outputs": [],
   "source": [
    "# After setting index, convert it to datetime\n",
    "hyderabad_indexed.index = pd.to_datetime(hyderabad_indexed.index, format='%d-%b-%y')"
   ]
  },
  {
   "cell_type": "markdown",
   "id": "78fcc28c",
   "metadata": {},
   "source": [
    "### 1.5.5 Selecting the data for the 'mandal' to forecast data for. "
   ]
  },
  {
   "cell_type": "markdown",
   "id": "e48a12fe",
   "metadata": {},
   "source": [
    "**Weather data for Hyderabad district is further collected for 16 mandals. Therefore weather for one specific mandal; **Amberpet** will be forecast.**"
   ]
  },
  {
   "cell_type": "code",
   "execution_count": 21,
   "id": "42b60781",
   "metadata": {},
   "outputs": [
    {
     "data": {
      "text/html": [
       "<div>\n",
       "<style scoped>\n",
       "    .dataframe tbody tr th:only-of-type {\n",
       "        vertical-align: middle;\n",
       "    }\n",
       "\n",
       "    .dataframe tbody tr th {\n",
       "        vertical-align: top;\n",
       "    }\n",
       "\n",
       "    .dataframe thead th {\n",
       "        text-align: right;\n",
       "    }\n",
       "</style>\n",
       "<table border=\"1\" class=\"dataframe\">\n",
       "  <thead>\n",
       "    <tr style=\"text-align: right;\">\n",
       "      <th></th>\n",
       "      <th>District</th>\n",
       "      <th>Mandal</th>\n",
       "      <th>Rain (mm)</th>\n",
       "      <th>Min Temp (°C)</th>\n",
       "      <th>Max Temp (°C)</th>\n",
       "      <th>Min Humidity (%)</th>\n",
       "      <th>Max Humidity (%)</th>\n",
       "      <th>Min Wind Speed (Kmph)</th>\n",
       "      <th>Max Wind Speed (Kmph)</th>\n",
       "    </tr>\n",
       "    <tr>\n",
       "      <th>Date</th>\n",
       "      <th></th>\n",
       "      <th></th>\n",
       "      <th></th>\n",
       "      <th></th>\n",
       "      <th></th>\n",
       "      <th></th>\n",
       "      <th></th>\n",
       "      <th></th>\n",
       "      <th></th>\n",
       "    </tr>\n",
       "  </thead>\n",
       "  <tbody>\n",
       "    <tr>\n",
       "      <th>2023-02-01</th>\n",
       "      <td>Hyderabad</td>\n",
       "      <td>Amberpet</td>\n",
       "      <td>0.0</td>\n",
       "      <td>21.5</td>\n",
       "      <td>29.7</td>\n",
       "      <td>42.2</td>\n",
       "      <td>78.6</td>\n",
       "      <td>0.0</td>\n",
       "      <td>2.0</td>\n",
       "    </tr>\n",
       "    <tr>\n",
       "      <th>2023-02-02</th>\n",
       "      <td>Hyderabad</td>\n",
       "      <td>Amberpet</td>\n",
       "      <td>0.0</td>\n",
       "      <td>19.9</td>\n",
       "      <td>30.4</td>\n",
       "      <td>37.0</td>\n",
       "      <td>73.6</td>\n",
       "      <td>0.0</td>\n",
       "      <td>1.9</td>\n",
       "    </tr>\n",
       "    <tr>\n",
       "      <th>2023-02-03</th>\n",
       "      <td>Hyderabad</td>\n",
       "      <td>Amberpet</td>\n",
       "      <td>0.0</td>\n",
       "      <td>18.5</td>\n",
       "      <td>30.1</td>\n",
       "      <td>27.8</td>\n",
       "      <td>55.1</td>\n",
       "      <td>0.0</td>\n",
       "      <td>2.0</td>\n",
       "    </tr>\n",
       "    <tr>\n",
       "      <th>2023-02-04</th>\n",
       "      <td>Hyderabad</td>\n",
       "      <td>Amberpet</td>\n",
       "      <td>0.0</td>\n",
       "      <td>19.1</td>\n",
       "      <td>31.4</td>\n",
       "      <td>15.6</td>\n",
       "      <td>60.3</td>\n",
       "      <td>0.0</td>\n",
       "      <td>2.1</td>\n",
       "    </tr>\n",
       "    <tr>\n",
       "      <th>2023-02-05</th>\n",
       "      <td>Hyderabad</td>\n",
       "      <td>Amberpet</td>\n",
       "      <td>0.0</td>\n",
       "      <td>20.1</td>\n",
       "      <td>31.9</td>\n",
       "      <td>24.2</td>\n",
       "      <td>58.1</td>\n",
       "      <td>0.0</td>\n",
       "      <td>2.1</td>\n",
       "    </tr>\n",
       "  </tbody>\n",
       "</table>\n",
       "</div>"
      ],
      "text/plain": [
       "             District    Mandal  Rain (mm)  Min Temp (°C)  Max Temp (°C)  \\\n",
       "Date                                                                       \n",
       "2023-02-01  Hyderabad  Amberpet        0.0           21.5           29.7   \n",
       "2023-02-02  Hyderabad  Amberpet        0.0           19.9           30.4   \n",
       "2023-02-03  Hyderabad  Amberpet        0.0           18.5           30.1   \n",
       "2023-02-04  Hyderabad  Amberpet        0.0           19.1           31.4   \n",
       "2023-02-05  Hyderabad  Amberpet        0.0           20.1           31.9   \n",
       "\n",
       "            Min Humidity (%)  Max Humidity (%)  Min Wind Speed (Kmph)  \\\n",
       "Date                                                                    \n",
       "2023-02-01              42.2              78.6                    0.0   \n",
       "2023-02-02              37.0              73.6                    0.0   \n",
       "2023-02-03              27.8              55.1                    0.0   \n",
       "2023-02-04              15.6              60.3                    0.0   \n",
       "2023-02-05              24.2              58.1                    0.0   \n",
       "\n",
       "            Max Wind Speed (Kmph)  \n",
       "Date                               \n",
       "2023-02-01                    2.0  \n",
       "2023-02-02                    1.9  \n",
       "2023-02-03                    2.0  \n",
       "2023-02-04                    2.1  \n",
       "2023-02-05                    2.1  "
      ]
     },
     "execution_count": 21,
     "metadata": {},
     "output_type": "execute_result"
    }
   ],
   "source": [
    "# Group data by mandals and get data for Amberpet Mandal. \n",
    "weather_by_mandals_h = {Mandal: data for Mandal, data in hyderabad_indexed.groupby('Mandal')}\n",
    "Amberpet_weather = weather_by_mandals_h['Amberpet']\n",
    "Amberpet_weather.head()"
   ]
  },
  {
   "cell_type": "code",
   "execution_count": 22,
   "id": "64f94a25",
   "metadata": {},
   "outputs": [
    {
     "name": "stdout",
     "output_type": "stream",
     "text": [
      "Data for Amberpet mandal in Hyderabad district\n",
      "<class 'pandas.core.frame.DataFrame'>\n",
      "DatetimeIndex: 731 entries, 2023-02-01 to 2025-01-31\n",
      "Data columns (total 9 columns):\n",
      " #   Column                 Non-Null Count  Dtype  \n",
      "---  ------                 --------------  -----  \n",
      " 0   District               731 non-null    object \n",
      " 1   Mandal                 731 non-null    object \n",
      " 2   Rain (mm)              731 non-null    float64\n",
      " 3   Min Temp (°C)          731 non-null    float64\n",
      " 4   Max Temp (°C)          731 non-null    float64\n",
      " 5   Min Humidity (%)       731 non-null    float64\n",
      " 6   Max Humidity (%)       731 non-null    float64\n",
      " 7   Min Wind Speed (Kmph)  731 non-null    float64\n",
      " 8   Max Wind Speed (Kmph)  731 non-null    float64\n",
      "dtypes: float64(7), object(2)\n",
      "memory usage: 57.1+ KB\n"
     ]
    }
   ],
   "source": [
    "# Get information for Amberpet mandal weather data\n",
    "print(f\"Data for Amberpet mandal in Hyderabad district\")\n",
    "Amberpet_weather.info()"
   ]
  },
  {
   "cell_type": "markdown",
   "id": "89031247",
   "metadata": {},
   "source": [
    "#### 1.5.5.1 dropping unneccesary columns from Amberpet mandal weather dataset"
   ]
  },
  {
   "cell_type": "code",
   "execution_count": 23,
   "id": "7e1f52da",
   "metadata": {},
   "outputs": [
    {
     "name": "stdout",
     "output_type": "stream",
     "text": [
      "<class 'pandas.core.frame.DataFrame'>\n",
      "DatetimeIndex: 731 entries, 2023-02-01 to 2025-01-31\n",
      "Data columns (total 7 columns):\n",
      " #   Column                 Non-Null Count  Dtype  \n",
      "---  ------                 --------------  -----  \n",
      " 0   Rain (mm)              731 non-null    float64\n",
      " 1   Min Temp (°C)          731 non-null    float64\n",
      " 2   Max Temp (°C)          731 non-null    float64\n",
      " 3   Min Humidity (%)       731 non-null    float64\n",
      " 4   Max Humidity (%)       731 non-null    float64\n",
      " 5   Min Wind Speed (Kmph)  731 non-null    float64\n",
      " 6   Max Wind Speed (Kmph)  731 non-null    float64\n",
      "dtypes: float64(7)\n",
      "memory usage: 45.7 KB\n"
     ]
    }
   ],
   "source": [
    "# District & mandal columns will not be necessary for forecasting and will be dropped.\n",
    "Amberpet_weather_cleaned = Amberpet_weather.drop(columns=['District', 'Mandal'])\n",
    "Amberpet_weather_cleaned.info()"
   ]
  },
  {
   "cell_type": "markdown",
   "id": "15edad3f",
   "metadata": {},
   "source": [
    "Amberpet weather dataset has 731 entries/rows and 7 columns."
   ]
  },
  {
   "cell_type": "code",
   "execution_count": 24,
   "id": "112f0061",
   "metadata": {},
   "outputs": [
    {
     "name": "stdout",
     "output_type": "stream",
     "text": [
      " Column names \n",
      " Index(['Rain (mm)', 'Min Temp (°C)', 'Max Temp (°C)', 'Min Humidity (%)',\n",
      "       'Max Humidity (%)', 'Min Wind Speed (Kmph)', 'Max Wind Speed (Kmph)'],\n",
      "      dtype='object') \n"
     ]
    }
   ],
   "source": [
    "# get column names\n",
    "column_names = Amberpet_weather_cleaned.columns\n",
    "print(f\" Column names \\n {column_names} \")"
   ]
  },
  {
   "cell_type": "code",
   "execution_count": 25,
   "id": "6d63e8c7",
   "metadata": {},
   "outputs": [
    {
     "name": "stdout",
     "output_type": "stream",
     "text": [
      "Missing dates: 0\n"
     ]
    }
   ],
   "source": [
    "# Create expected date range\n",
    "date_range = pd.date_range(start='2023-02-01', end='2025-01-31', freq='D')\n",
    "missing_dates = date_range.difference(Amberpet_weather_cleaned.index)\n",
    "print(f\"Missing dates: {len(missing_dates)}\")"
   ]
  },
  {
   "cell_type": "code",
   "execution_count": 26,
   "id": "3f293a48",
   "metadata": {},
   "outputs": [],
   "source": [
    "# Save cleaned data to a new CSV file\n",
    "Amberpet_weather_cleaned.to_csv('Amberpet_weather_cleaned.csv', index=True) # index=True to keep the Date index"
   ]
  }
 ],
 "metadata": {
  "kernelspec": {
   "display_name": "3.12.5",
   "language": "python",
   "name": "python3"
  },
  "language_info": {
   "codemirror_mode": {
    "name": "ipython",
    "version": 3
   },
   "file_extension": ".py",
   "mimetype": "text/x-python",
   "name": "python",
   "nbconvert_exporter": "python",
   "pygments_lexer": "ipython3",
   "version": "3.12.5"
  }
 },
 "nbformat": 4,
 "nbformat_minor": 5
}
